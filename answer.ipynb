
# coding: utf-8

# In[2]:


import gensim
from gensim import models


# In[3]:


wv_embeddings = models.KeyedVectors.load_word2vec_format('/home/rohit/Desktop/Duplicate/natural-language-processing-week3/week3/GoogleNews-vectors-negative300.bin',
                                                         binary=True, limit=500000)


# In[4]:


def check_embeddings(embeddings):
    error_text = "Something wrong with your embeddings ('%s test isn't correct)."
    most_similar = embeddings.most_similar(positive=['woman', 'king'], negative=['man'])
    if len(most_similar) < 1 or most_similar[0][0] != 'queen':
        return error_text % "Most similar"

    doesnt_match = embeddings.doesnt_match(['breakfast', 'cereal', 'dinner', 'lunch'])
    if doesnt_match != 'cereal':
        return error_text % "Doesn't match"
    
    most_similar_to_given = embeddings.most_similar_to_given('music', ['water', 'sound', 'backpack', 'mouse'])
    if most_similar_to_given != 'sound':
        return error_text % "Most similar to given"
    
    return "These embeddings look good."


# In[5]:


print(check_embeddings(wv_embeddings))


# In[6]:


import numpy as np


# In[7]:


def question_to_vec(question, embeddings, dim=300):
    """
        question: a string
        embeddings: dict where the key is a word and a value is its' embedding
        dim: size of the representation

        result: vector representation for the question
    """
    
    vec = np.zeros((dim,), dtype=np.float32)
    count = 0
    for w in question.split():
        if w in embeddings:
            count += 1
            vec += embeddings[w]
    if count == 0:
        return vec
    return vec/count


# In[8]:


def question_to_vec_tests():
    if (np.zeros(300) != question_to_vec('', wv_embeddings)).any():
        return "You need to return zero vector for empty question."
    if (np.zeros(300) != question_to_vec('thereisnosuchword', wv_embeddings)).any():
        return "You need to return zero vector for the question, which consists only unknown words."
    if (wv_embeddings['word'] != question_to_vec('word', wv_embeddings)).any():
        return "You need to check the corectness of your function."
    if ((wv_embeddings['I'] + wv_embeddings['am']) / 2 != question_to_vec('I am', wv_embeddings)).any():
        return "Your function should calculate a mean of word vectors."
    if (wv_embeddings['word'] != question_to_vec('thereisnosuchword word', wv_embeddings)).any():
        return "You should not consider words which embeddings are unknown."
    return "Basic tests are passed."


# In[9]:


print(question_to_vec_tests())


# In[10]:




import nltk
nltk.download('stopwords')



# In[11]:


from util import array_to_string


# In[12]:


question2vec_result = []
for question in open('/home/rohit/Desktop/Duplicate/test_embeddings.tsv'):
    question = question.strip()
    answer = question_to_vec(question, wv_embeddings)
    question2vec_result = np.append(question2vec_result, answer)


# In[13]:


def hits_count(dup_ranks, k):
    count = 0
    for rank in dup_ranks:
        if rank <=k:
            count += 1
    return count/(len(dup_ranks)+1e-8)


# In[14]:


def test_hits():
    # *Evaluation example*
    # answers — dup_i
    answers = ["How does the catch keyword determine the type of exception that was thrown"]
    
    # candidates_ranking — the ranked sentences provided by our model
    candidates_ranking = [["How Can I Make These Links Rotate in PHP", 
                           "How does the catch keyword determine the type of exception that was thrown",
                           "NSLog array description not memory address",
                           "PECL_HTTP not recognised php ubuntu"]]
    # dup_ranks — position of the dup_i in the list of ranks +1
    dup_ranks = [candidates_ranking[i].index(answers[i]) + 1 for i in range(len(answers))]
    
    # correct_answers — the expected values of the result for each k from 1 to 4
    correct_answers = [0, 1, 1, 1]
    for k, correct in enumerate(correct_answers, 1):
        if not np.isclose(hits_count(dup_ranks, k), correct):
            return "Check the function."
    
    # Other tests
    answers = ["How does the catch keyword determine the type of exception that was thrown", 
               "Convert Google results object (pure js) to Python object"]
    
    # The first test: both duplicates on the first position in ranked list
    candidates_ranking = [["How does the catch keyword determine the type of exception that was thrown",
                           "How Can I Make These Links Rotate in PHP"], 
                          ["Convert Google results object (pure js) to Python object",
                           "WPF- How to update the changes in list item of a list"]]
    dup_ranks = [candidates_ranking[i].index(answers[i]) + 1 for i in range(len(answers))]
    correct_answers = [1, 1]
    for k, correct in enumerate(correct_answers, 1):
        if not np.isclose(hits_count(dup_ranks, k), correct):
            return "Check the function (test: both duplicates on the first position in ranked list)."
        
    # The second test: one candidate on the first position, another — on the second
    candidates_ranking = [["How Can I Make These Links Rotate in PHP", 
                           "How does the catch keyword determine the type of exception that was thrown"], 
                          ["Convert Google results object (pure js) to Python object",
                           "WPF- How to update the changes in list item of a list"]]
    dup_ranks = [candidates_ranking[i].index(answers[i]) + 1 for i in range(len(answers))]
    correct_answers = [0.5, 1]
    for k, correct in enumerate(correct_answers, 1):
        if not np.isclose(hits_count(dup_ranks, k), correct):
            return "Check the function (test: one candidate on the first position, another — on the second)."

    # The third test: both candidates on the second position
    candidates_ranking = [["How Can I Make These Links Rotate in PHP", 
                           "How does the catch keyword determine the type of exception that was thrown"], 
                          ["WPF- How to update the changes in list item of a list",
                           "Convert Google results object (pure js) to Python object"]]
    dup_ranks = [candidates_ranking[i].index(answers[i]) + 1 for i in range(len(answers))]
    correct_answers = [0, 1]
    for k, correct in enumerate(correct_answers, 1):
        if not np.isclose(hits_count(dup_ranks, k), correct):
            return "Check the function (test: both candidates on the second position)."

    return "Basic test are passed."


# In[15]:


print(test_hits())


# In[16]:


def dcg_score(dup_ranks, k):
    """
        dup_ranks: list with ranks for each duplicate (the best rank is 1, the worst is len(dup_ranks))
        k: number of top-ranked elements

        result: float number
    """
    ######################################
    ######### YOUR CODE HERE #############
    score = 0
    for rank in dup_ranks:
        if rank <= k:
            score += 1/np.log2(1+rank)
    return score/(len(dup_ranks)+1e-8)


# In[17]:


def test_dcg():
    # *Evaluation example*
    # answers — dup_i
    answers = ["How does the catch keyword determine the type of exception that was thrown"]
    
    # candidates_ranking — the ranked sentences provided by our model
    candidates_ranking = [["How Can I Make These Links Rotate in PHP", 
                           "How does the catch keyword determine the type of exception that was thrown",
                           "NSLog array description not memory address",
                           "PECL_HTTP not recognised php ubuntu"]]
    # dup_ranks — position of the dup_i in the list of ranks +1
    dup_ranks = [candidates_ranking[i].index(answers[i]) + 1 for i in range(len(answers))]
    
    # correct_answers — the expected values of the result for each k from 1 to 4
    correct_answers = [0, 1 / (np.log2(3)), 1 / (np.log2(3)), 1 / (np.log2(3))]
    for k, correct in enumerate(correct_answers, 1):
        if not np.isclose(dcg_score(dup_ranks, k), correct):
            return "Check the function."
    
    # Other tests
    answers = ["How does the catch keyword determine the type of exception that was thrown", 
               "Convert Google results object (pure js) to Python object"]

    # The first test: both duplicates on the first position in ranked list
    candidates_ranking = [["How does the catch keyword determine the type of exception that was thrown",
                           "How Can I Make These Links Rotate in PHP"], 
                          ["Convert Google results object (pure js) to Python object",
                           "WPF- How to update the changes in list item of a list"]]
    dup_ranks = [candidates_ranking[i].index(answers[i]) + 1 for i in range(len(answers))]
    correct_answers = [1, 1]
    for k, correct in enumerate(correct_answers, 1):
        if not np.isclose(dcg_score(dup_ranks, k), correct):
            return "Check the function (test: both duplicates on the first position in ranked list)."
        
    # The second test: one candidate on the first position, another — on the second
    candidates_ranking = [["How Can I Make These Links Rotate in PHP", 
                           "How does the catch keyword determine the type of exception that was thrown"], 
                          ["Convert Google results object (pure js) to Python object",
                           "WPF- How to update the changes in list item of a list"]]
    dup_ranks = [candidates_ranking[i].index(answers[i]) + 1 for i in range(len(answers))]
    correct_answers = [0.5, (1 + (1 / (np.log2(3)))) / 2]
    for k, correct in enumerate(correct_answers, 1):
        if not np.isclose(dcg_score(dup_ranks, k), correct):
            return "Check the function (test: one candidate on the first position, another — on the second)."
        
    # The third test: both candidates on the second position
    candidates_ranking = [["How Can I Make These Links Rotate in PHP",
                           "How does the catch keyword determine the type of exception that was thrown"], 
                          ["WPF- How to update the changes in list item of a list",
                           "Convert Google results object (pure js) to Python object"]]
    dup_ranks = [candidates_ranking[i].index(answers[i]) + 1 for i in range(len(answers))]
    correct_answers = [0, 1 / (np.log2(3))]
    for k, correct in enumerate(correct_answers, 1):
        if not np.isclose(dcg_score(dup_ranks, k), correct):
            return "Check the function (test: both candidates on the second position)."

    return "Basic test are passed."


# In[18]:


print(test_dcg())


# In[19]:


def read_corpus(filename):
    data = []
    for line in open(filename, encoding='utf-8'):
        data.append(line.strip().split('\t'))
    return data


# In[20]:


validation = read_corpus('/home/rohit/Desktop/Duplicate/validation.tsv')


# In[21]:


from sklearn.metrics.pairwise import cosine_similarity


# In[22]:


def rank_candidates(question, candidates, embeddings, dim=300):
    """
        question: a string
        candidates: a list of strings (candidates) which we want to rank
        embeddings: some embeddings
        dim: dimension of the current embeddings
        
        result: a list of pairs (initial position in the list, question)
    """
    # print("ffffffff")
    ######################################
    ######### YOUR CODE HERE #############
    vecq = np.array([np.array(question_to_vec(question, embeddings, dim))])
    vecc = np.array([np.array(question_to_vec(can, embeddings, dim)) for can in candidates])
    scores = list(cosine_similarity(vecq, vecc)[0])
    tl = [(i, candidates[i], scores[i]) for i in range(len(candidates))]
    stl = sorted(tl, key=lambda x:x[2], reverse=True)
    return [(t[0],t[1]) for t in stl]


# In[23]:


def test_rank_candidates():
    questions = ['converting string to list', 'Sending array via Ajax fails']
    candidates = [['Convert Google results object (pure js) to Python object', 
                   'C# create cookie from string and send it',
                   'How to use jQuery AJAX for an outside domain?'], 
                  ['Getting all list items of an unordered list in PHP', 
                   'WPF- How to update the changes in list item of a list', 
                   'select2 not displaying search results']]
    results = [[(1, 'C# create cookie from string and send it'), 
                (0, 'Convert Google results object (pure js) to Python object'), 
                (2, 'How to use jQuery AJAX for an outside domain?')],
               [(0, 'Getting all list items of an unordered list in PHP'), 
                (2, 'select2 not displaying search results'), 
                (1, 'WPF- How to update the changes in list item of a list')]]
    for question, q_candidates, result in zip(questions, candidates, results):
        ranks = rank_candidates(question, q_candidates, wv_embeddings, 300)
        if not np.all(ranks == result):
            return "Check the function."
    return "Basic tests are passed."


# In[24]:


print(test_rank_candidates())


# In[25]:


wv_ranking = []
a = []
b = []

for line in validation:
    q, *ex = line
    ranks = rank_candidates(q, ex, wv_embeddings)
    wv_ranking.append([r[0] for r in ranks].index(0) + 1)


# In[34]:


for k in [1, 5, 10, 100, 500, 1000]:
    print("DCG@%4d: %.3f | Hits@%4d: %.3f" % (k, dcg_score(wv_ranking, k), k, hits_count(wv_ranking, k)))
    a.append(dcg_score(wv_ranking, k))
    b.append(hits_count(wv_ranking, k))

print(a)
print(b)


# In[26]:


import matplotlib.pyplot as plt
c=[1,5,10,100,500,1000]

#plt.plot(a,c)
#plt.xlabel('Dcg for Word2vec')
#plt.ylabel('K')


# In[30]:


#plt.plot(b, c, 'b-', label='Hits for Word2vec')
#plt.xlabel('Hit accuracy rate for Word2vec')
#plt.ylabel('K')


# In[31]:




#plt.xlabel('accuracy')
#plt.ylabel('K')
#plt.plot(a,c, label='Hit rate Word2vec')
#plt.plot(b,c, label='Dcg Word2vec')
#plt.legend()


# In[27]:


for line in validation[:3]:
    q, *examples = line
    print(q, *examples[:3])


# In[28]:


from util import text_prepare


# In[29]:


prepared_validation = []
for line in validation:
    q, *ex = line
    q = text_prepare(q)
    for i,e in enumerate(ex):
        ex[i] = text_prepare(e)
    prepared_validation.append([q,*ex])


# In[ ]:


wv_prepared_ranking = []
for line in prepared_validation:
    q, *ex = line
    ranks = rank_candidates(q, ex, wv_embeddings)
    wv_prepared_ranking.append([r[0] for r in ranks].index(0) + 1)


# In[36]:


for k in [1, 5, 10, 100, 500, 1000]:
    print("DCG@%4d: %.3f | Hits@%4d: %.3f" % (k, dcg_score(wv_prepared_ranking, k), 
                                              k, hits_count(wv_prepared_ranking, k)))


# In[37]:


def prepare_file(in_, out_):
    out = open(out_, 'w')
    for line in open(in_, encoding='utf8'):
        line = line.strip().split('\t')
        new_line = [text_prepare(q) for q in line]
        print(*new_line, sep='\t', file=out)
    out.close()


# In[38]:


prepare_file('/home/rohit/Desktop/Duplicate/validation.tsv', '/home/rohit/Desktop/Duplicate/tp_v.tsv')
prepare_file('/home/rohit/Desktop/Duplicate/test.tsv', '/home/rohit/Desktop/Duplicate/tp_t.tsv')
prepare_file('/home/rohit/Desktop/Duplicate/train.tsv', '/home/rohit/Desktop/Duplicate/tp_train.tsv')


# In[39]:


from util import matrix_to_string


# In[40]:


w2v_ranks_results = []
prepared_test_data = '/home/rohit/Desktop/Duplicate/tp_t.tsv' ######### YOUR CODE HERE #############
for line in open(prepared_test_data):
    q, *ex = line.strip().split('\t')
    ranks = rank_candidates(q, ex, wv_embeddings, 300)
    ranked_candidates = [r[0] for r in ranks]
    w2v_ranks_results.append([ranked_candidates.index(i) + 1 for i in range(len(ranked_candidates))])


# In[39]:


Starspace/starspace train -trainFile '/home/rohit/Desktop/Duplicate/tp_train.tsv' -model "sodd" -trainMode 3     -adagrad true -ngrams 1 -epoch 5 -dim 100 -minCount 2 -verbose true -fileFormat "labelDoc"     -negSearchLimit 10 -similarity "cosine" -lr 0.05


# In[41]:


starspace_embeddings = {}
for line in open('/home/rohit/Starspace/sodd.tsv'):
    word,*vec = line.strip().split()
    vf = []
    for v in vec:
        # print(v)
        vf.append(float(v))
    starspace_embeddings[word] = np.array(vf)


# In[ ]:


ss_prepared_ranking = []
for line in prepared_validation:
    q, *ex = line
    ranks = rank_candidates(q, ex, starspace_embeddings, 100)
    ss_prepared_ranking.append([r[0] for r in ranks].index(0) + 1)


# In[77]:


sa=[]
sb=[]

for k in [1, 5, 10, 100, 500, 1000]:
    print("DCG@%4d: %.3f | Hits@%4d: %.3f" % (k, dcg_score(ss_prepared_ranking, k), 
                                               k, hits_count(ss_prepared_ranking, k)))
    sa.append(dcg_score(ss_prepared_ranking, k))
    sb.append( hits_count(ss_prepared_ranking, k))


# In[ ]:


starspace_ranks_results = []
prepared_test_data = '/home/rohit/Desktop/Duplicate/tp_v.tsv' ######### YOUR CODE HERE #############
for line in open(prepared_test_data):
    q, *ex = line.strip().split('\t')
    ranks = rank_candidates(q, ex, starspace_embeddings, 100)
    print(ranks)
    ranked_candidates = [r[0] for r in ranks]
    starspace_ranks_results.append([ranked_candidates.index(i) + 1 for i in range(len(ranked_candidates))])


# In[46]:


plt.plot(sa,c)
plt.xlabel('Dcg for Starspace')
plt.ylabel('K')


# In[46]:


plt.plot(sb,c)
plt.xlabel('Hit rate for starspace')
plt.ylabel('K')


# In[47]:


plt.xlabel('accuracy')
plt.ylabel('K')
plt.plot(a,c, label='Hit rate Starspace')
plt.plot(b,c, label='Dcg starspace')
plt.legend()


# In[47]:


plt.plot(a,c, label='Hit rate Word2vec')
plt.plot(sa,c, label=' hit rate starspace')
plt.legend()


# In[ ]:


plt.plot(b,c, label='DCG Word2vec')
plt.plot(sb,c, label=' DCG starspace')
plt.legend()

